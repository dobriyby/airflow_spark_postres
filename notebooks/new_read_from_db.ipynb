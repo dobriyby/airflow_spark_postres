{
 "cells": [
  {
   "cell_type": "markdown",
   "metadata": {},
   "source": [
    "# Spark Session"
   ]
  },
  {
   "cell_type": "code",
   "execution_count": 1,
   "metadata": {},
   "outputs": [],
   "source": [
    "from pyspark.sql import SparkSession\n",
    "\n",
    "# Spark session & context\n",
    "spark = (SparkSession\n",
    "         .builder\n",
    "         .master(\"local\")\n",
    "         .appName(\"read-postgres\")\n",
    "         # Add postgres jar\n",
    "         .config(\"spark.driver.extraClassPath\", \"/home/jovyan/work/jars/postgresql-9.4.1207.jar\")\n",
    "         .getOrCreate())\n",
    "sc = spark.sparkContext"
   ]
  },
  {
   "cell_type": "markdown",
   "metadata": {},
   "source": [
    "# Read Postgres"
   ]
  },
  {
   "cell_type": "code",
   "execution_count": 2,
   "metadata": {},
   "outputs": [],
   "source": [
    "df_movies = (\n",
    "    spark.read\n",
    "    .format(\"jdbc\")\n",
    "    .option(\"url\", \"jdbc:postgresql://host.docker.internal:15432/rainbow_database\")\n",
    "    .option(\"dbtable\", \"public.movies\")\n",
    "    .option(\"user\", \"unicorn_user\")\n",
    "    .option(\"password\", \"magical_password\")\n",
    "    .load()\n",
    ")"
   ]
  },
  {
   "cell_type": "code",
   "execution_count": 3,
   "metadata": {},
   "outputs": [],
   "source": [
    "df_ratings = (\n",
    "    spark.read\n",
    "    .format(\"jdbc\")\n",
    "    .option(\"url\", \"jdbc:postgresql://host.docker.internal:15432/rainbow_database\")\n",
    "    .option(\"dbtable\", \"public.ratings\")\n",
    "    .option(\"user\", \"unicorn_user\")\n",
    "    .option(\"password\", \"magical_password\")\n",
    "    .load()\n",
    ")"
   ]
  },
  {
   "cell_type": "markdown",
   "metadata": {},
   "source": [
    "# Top 10 movies with more ratings"
   ]
  },
  {
   "cell_type": "code",
   "execution_count": 4,
   "metadata": {},
   "outputs": [],
   "source": [
    "df_movies = df_movies.alias(\"m\")\n",
    "df_ratings = df_ratings.alias(\"r\")\n",
    "\n",
    "df_join = df_ratings.join(df_movies, df_ratings.movieId == df_movies.movieId).select(\"r.*\",\"m.title\")"
   ]
  },
  {
   "cell_type": "code",
   "execution_count": 5,
   "metadata": {},
   "outputs": [],
   "source": [
    "from pyspark.sql import functions as F\n",
    "\n",
    "df_result = (\n",
    "    df_join\n",
    "    .groupBy(\"title\")\n",
    "    .agg(\n",
    "        F.count(\"timestamp\").alias(\"qty_ratings\")\n",
    "        ,F.mean(\"rating\").alias(\"avg_rating\")\n",
    "    )\n",
    "    .sort(F.desc(\"qty_ratings\"))\n",
    "    .limit(10)\n",
    ")"
   ]
  },
  {
   "cell_type": "code",
   "execution_count": 6,
   "metadata": {},
   "outputs": [],
   "source": [
    "df_result.coalesce(1).write.format(\"csv\").mode(\"overwrite\").save(\"/home/jovyan/work/data/output_postgres\", header=True)"
   ]
  },
  {
   "cell_type": "code",
   "execution_count": 7,
   "metadata": {},
   "outputs": [
    {
     "name": "stdout",
     "output_type": "stream",
     "text": [
      "+--------------------+-----------+-----------------+\n",
      "|               title|qty_ratings|       avg_rating|\n",
      "+--------------------+-----------+-----------------+\n",
      "| Forrest Gump (1994)|        329|4.164133738601824|\n",
      "|Shawshank Redempt...|        317|4.429022082018927|\n",
      "| Pulp Fiction (1994)|        307|4.197068403908795|\n",
      "|Silence of the La...|        279|4.161290322580645|\n",
      "|  Matrix, The (1999)|        278|4.192446043165468|\n",
      "|Star Wars: Episod...|        251|4.231075697211155|\n",
      "|Jurassic Park (1993)|        238|             3.75|\n",
      "|   Braveheart (1995)|        237|4.031645569620253|\n",
      "|Terminator 2: Jud...|        224|3.970982142857143|\n",
      "|Schindler's List ...|        220|            4.225|\n",
      "+--------------------+-----------+-----------------+\n",
      "\n"
     ]
    }
   ],
   "source": [
    "df_result.show()"
   ]
  },
  {
   "cell_type": "code",
   "execution_count": 8,
   "metadata": {},
   "outputs": [
    {
     "name": "stdout",
     "output_type": "stream",
     "text": [
      "+--------------------+-----------+-----------------+\n",
      "|               title|qty_ratings|       avg_rating|\n",
      "+--------------------+-----------+-----------------+\n",
      "| Forrest Gump (1994)|        329|4.164133738601824|\n",
      "|Shawshank Redempt...|        317|4.429022082018927|\n",
      "| Pulp Fiction (1994)|        307|4.197068403908795|\n",
      "|Silence of the La...|        279|4.161290322580645|\n",
      "|  Matrix, The (1999)|        278|4.192446043165468|\n",
      "|Star Wars: Episod...|        251|4.231075697211155|\n",
      "|Jurassic Park (1993)|        238|             3.75|\n",
      "|   Braveheart (1995)|        237|4.031645569620253|\n",
      "|Terminator 2: Jud...|        224|3.970982142857143|\n",
      "|Schindler's List ...|        220|            4.225|\n",
      "+--------------------+-----------+-----------------+\n",
      "\n"
     ]
    }
   ],
   "source": [
    "df_result.show()"
   ]
  },
  {
   "cell_type": "code",
   "execution_count": null,
   "metadata": {},
   "outputs": [],
   "source": []
  },
  {
   "cell_type": "code",
   "execution_count": null,
   "metadata": {},
   "outputs": [],
   "source": []
  }
 ],
 "metadata": {
  "kernelspec": {
   "display_name": "Python 3",
   "language": "python",
   "name": "python3"
  },
  "language_info": {
   "codemirror_mode": {
    "name": "ipython",
    "version": 3
   },
   "file_extension": ".py",
   "mimetype": "text/x-python",
   "name": "python",
   "nbconvert_exporter": "python",
   "pygments_lexer": "ipython3",
   "version": "3.9.5"
  }
 },
 "nbformat": 4,
 "nbformat_minor": 4
}
